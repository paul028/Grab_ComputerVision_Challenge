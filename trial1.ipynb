{
  "nbformat": 4,
  "nbformat_minor": 0,
  "metadata": {
    "colab": {
      "name": "trial1",
      "version": "0.3.2",
      "provenance": [],
      "collapsed_sections": [],
      "include_colab_link": true
    },
    "language_info": {
      "codemirror_mode": {
        "name": "ipython",
        "version": 3
      },
      "file_extension": ".py",
      "mimetype": "text/x-python",
      "name": "python",
      "nbconvert_exporter": "python",
      "pygments_lexer": "ipython3",
      "version": "3.7.3"
    },
    "kernelspec": {
      "name": "python3",
      "display_name": "Python 3"
    },
    "accelerator": "TPU"
  },
  "cells": [
    {
      "cell_type": "markdown",
      "metadata": {
        "id": "view-in-github",
        "colab_type": "text"
      },
      "source": [
        "<a href=\"https://colab.research.google.com/github/paul028/Grab_ComputerVision_Challenge/blob/master/trial1.ipynb\" target=\"_parent\"><img src=\"https://colab.research.google.com/assets/colab-badge.svg\" alt=\"Open In Colab\"/></a>"
      ]
    },
    {
      "cell_type": "code",
      "metadata": {
        "id": "GhCCFHeK0QeB",
        "colab_type": "code",
        "outputId": "d75ef3cf-9398-4df5-bb6a-1ac427029cd2",
        "colab": {
          "base_uri": "https://localhost:8080/",
          "height": 187
        }
      },
      "source": [
        "# -*- coding: utf-8 -*-\n",
        "!pip install console_progressbar\n",
        "!pip install Pillow \n",
        "import tarfile\n",
        "import scipy.io\n",
        "import numpy as np\n",
        "import os\n",
        "import cv2 as cv\n",
        "import shutil\n",
        "import random\n",
        "from console_progressbar import ProgressBar\n",
        "from tensorflow.keras.models import Sequential\n",
        "#from tensorflow.keras.utils import np_utils\n",
        "from tensorflow.keras.preprocessing.image import ImageDataGenerator\n",
        "from tensorflow.keras.layers import Dense, Activation, Flatten, Dropout, BatchNormalization, Conv2D, MaxPooling2D, Input\n",
        "from tensorflow.keras.datasets import cifar10\n",
        "from tensorflow.keras import regularizers\n",
        "from tensorflow.keras.callbacks import LearningRateScheduler\n",
        "import matplotlib.pyplot as plt\n",
        "from IPython.display import clear_output\n",
        "#from scipy.misc import toimage\n",
        "#from hyperas.distributions import uniform, choice\n",
        "#from hyperopt import Trials, STATUS_OK, tpe\n",
        "#from hyperas import optim\n",
        "import numpy as np\n",
        "import os\n",
        "import tensorflow as tf"
      ],
      "execution_count": 1,
      "outputs": [
        {
          "output_type": "stream",
          "text": [
            "Collecting console_progressbar\n",
            "  Downloading https://files.pythonhosted.org/packages/70/dd/5103450098d904eb276c188fe500e1d757cb82ffdc02c02aa4de8faaccea/console_progressbar-1.1.1.tar.gz\n",
            "Building wheels for collected packages: console-progressbar\n",
            "  Building wheel for console-progressbar (setup.py) ... \u001b[?25l\u001b[?25hdone\n",
            "  Stored in directory: /root/.cache/pip/wheels/76/75/2c/d26751f4f3d2cd72d58d10313113691e87995630c89aab231b\n",
            "Successfully built console-progressbar\n",
            "Installing collected packages: console-progressbar\n",
            "Successfully installed console-progressbar-1.1.1\n",
            "Requirement already satisfied: Pillow in /usr/local/lib/python3.6/dist-packages (4.3.0)\n",
            "Requirement already satisfied: olefile in /usr/local/lib/python3.6/dist-packages (from Pillow) (0.46)\n"
          ],
          "name": "stdout"
        }
      ]
    },
    {
      "cell_type": "code",
      "metadata": {
        "id": "0l3nTZ4c7Rx9",
        "colab_type": "code",
        "colab": {
          "base_uri": "https://localhost:8080/",
          "height": 578
        },
        "outputId": "fc67ee85-55aa-4cef-adba-8579024616b3"
      },
      "source": [
        "!wget http://imagenet.stanford.edu/internal/car196/cars_train.tgz\n",
        "!wget http://imagenet.stanford.edu/internal/car196/cars_test.tgz\n",
        "!wget https://ai.stanford.edu/~jkrause/cars/car_devkit.tgz"
      ],
      "execution_count": 2,
      "outputs": [
        {
          "output_type": "stream",
          "text": [
            "--2019-06-13 08:23:27--  http://imagenet.stanford.edu/internal/car196/cars_train.tgz\n",
            "Resolving imagenet.stanford.edu (imagenet.stanford.edu)... 171.64.68.16\n",
            "Connecting to imagenet.stanford.edu (imagenet.stanford.edu)|171.64.68.16|:80... connected.\n",
            "HTTP request sent, awaiting response... 200 OK\n",
            "Length: 979269282 (934M) [application/x-gzip]\n",
            "Saving to: ‘cars_train.tgz’\n",
            "\n",
            "cars_train.tgz      100%[===================>] 933.90M  2.40MB/s    in 12m 59s \n",
            "\n",
            "2019-06-13 08:36:26 (1.20 MB/s) - ‘cars_train.tgz’ saved [979269282/979269282]\n",
            "\n",
            "--2019-06-13 08:36:27--  http://imagenet.stanford.edu/internal/car196/cars_test.tgz\n",
            "Resolving imagenet.stanford.edu (imagenet.stanford.edu)... 171.64.68.16\n",
            "Connecting to imagenet.stanford.edu (imagenet.stanford.edu)|171.64.68.16|:80... connected.\n",
            "HTTP request sent, awaiting response... 200 OK\n",
            "Length: 977350468 (932M) [application/x-gzip]\n",
            "Saving to: ‘cars_test.tgz’\n",
            "\n",
            "cars_test.tgz       100%[===================>] 932.07M  1.54MB/s    in 9m 37s  \n",
            "\n",
            "2019-06-13 08:46:04 (1.62 MB/s) - ‘cars_test.tgz’ saved [977350468/977350468]\n",
            "\n",
            "--2019-06-13 08:46:05--  https://ai.stanford.edu/~jkrause/cars/car_devkit.tgz\n",
            "Resolving ai.stanford.edu (ai.stanford.edu)... 171.64.68.10\n",
            "Connecting to ai.stanford.edu (ai.stanford.edu)|171.64.68.10|:443... connected.\n",
            "HTTP request sent, awaiting response... 200 OK\n",
            "Length: 330960 (323K) [application/x-gzip]\n",
            "Saving to: ‘car_devkit.tgz’\n",
            "\n",
            "car_devkit.tgz      100%[===================>] 323.20K   796KB/s    in 0.4s    \n",
            "\n",
            "2019-06-13 08:46:06 (796 KB/s) - ‘car_devkit.tgz’ saved [330960/330960]\n",
            "\n"
          ],
          "name": "stdout"
        }
      ]
    },
    {
      "cell_type": "code",
      "metadata": {
        "id": "KXi0RONV72PN",
        "colab_type": "code",
        "colab": {
          "base_uri": "https://localhost:8080/",
          "height": 136
        },
        "outputId": "b4c0e3d7-70e4-4782-d083-de45df6a6c2a"
      },
      "source": [
        "#!tar car_devkit.tgz\n",
        "!tar -xvzf car_devkit.tgz"
      ],
      "execution_count": 8,
      "outputs": [
        {
          "output_type": "stream",
          "text": [
            "devkit/\n",
            "devkit/cars_meta.mat\n",
            "devkit/cars_train_annos.mat\n",
            "devkit/cars_test_annos.mat\n",
            "devkit/README.txt\n",
            "devkit/train_perfect_preds.txt\n",
            "devkit/eval_train.m\n"
          ],
          "name": "stdout"
        }
      ]
    },
    {
      "cell_type": "code",
      "metadata": {
        "id": "PfSDo6mnODxr",
        "colab_type": "code",
        "colab": {
          "base_uri": "https://localhost:8080/",
          "height": 34
        },
        "outputId": "e95c78f9-f2d1-4d85-b34a-0231f6ed86fd"
      },
      "source": [
        "!ls"
      ],
      "execution_count": 1,
      "outputs": [
        {
          "output_type": "stream",
          "text": [
            "sample_data\n"
          ],
          "name": "stdout"
        }
      ]
    },
    {
      "cell_type": "code",
      "metadata": {
        "id": "nV3UUpgv0QeF",
        "colab_type": "code",
        "colab": {}
      },
      "source": [
        "# This address identifies the TPU we'll use when configuring TensorFlow.\n",
        "TPU_WORKER = 'grpc://' + os.environ['COLAB_TPU_ADDR']\n",
        "tf.logging.set_verbosity(tf.logging.INFO)"
      ],
      "execution_count": 0,
      "outputs": []
    },
    {
      "cell_type": "code",
      "metadata": {
        "id": "Wtcp9hWg0QeW",
        "colab_type": "code",
        "colab": {}
      },
      "source": [
        "class TrainingPlot(tf.keras.callbacks.Callback):\n",
        "    \n",
        "    # This function is called when the training begins\n",
        "    def on_train_begin(self, logs={}):\n",
        "        # Initialize the lists for holding the logs, losses and accuracies\n",
        "        self.losses = []\n",
        "        self.acc = []\n",
        "        self.val_losses = []\n",
        "        self.val_acc = []\n",
        "        self.logs = []\n",
        "    \n",
        "    # This function is called at the end of each epoch\n",
        "    def on_epoch_end(self, epoch, logs={}):\n",
        "        \n",
        "        # Append the logs, losses and accuracies to the lists\n",
        "        self.logs.append(logs)\n",
        "        self.losses.append(logs.get('loss'))\n",
        "        self.acc.append(logs.get('acc'))\n",
        "        self.val_losses.append(logs.get('val_loss'))\n",
        "        self.val_acc.append(logs.get('val_acc'))\n",
        "        \n",
        "        # Before plotting ensure at least 2 epochs have passed\n",
        "        if len(self.losses) > 1:\n",
        "            \n",
        "            # Clear the previous plot\n",
        "            clear_output(wait=True)\n",
        "            N = np.arange(0, len(self.losses))\n",
        "            \n",
        "            # You can chose the style of your preference\n",
        "            # print(plt.style.available) to see the available options\n",
        "            plt.style.use(\"seaborn\")\n",
        "            \n",
        "            # Plot train loss, train acc, val loss and val acc against epochs passed\n",
        "            plt.figure()\n",
        "            plt.plot(N, self.losses, label = \"train_loss\")\n",
        "            plt.plot(N, self.acc, label = \"train_acc\")\n",
        "            plt.plot(N, self.val_losses, label = \"val_loss\")\n",
        "            plt.plot(N, self.val_acc, label = \"val_acc\")\n",
        "            plt.title(\"Training Loss and Accuracy [Epoch {}]\".format(epoch))\n",
        "            plt.xlabel(\"Epoch #\")\n",
        "            plt.ylabel(\"Loss/Accuracy\")\n",
        "            plt.legend()\n",
        "            plt.show()\n",
        "\n",
        "plot_losses = TrainingPlot()"
      ],
      "execution_count": 0,
      "outputs": []
    },
    {
      "cell_type": "code",
      "metadata": {
        "id": "zrSssru80QeY",
        "colab_type": "code",
        "colab": {
          "base_uri": "https://localhost:8080/",
          "height": 374
        },
        "outputId": "67429169-e302-4715-8206-e77d0dc6fcc6"
      },
      "source": [
        "def ensure_folder(folder):\n",
        "    if not os.path.exists(folder):\n",
        "        os.makedirs(folder)\n",
        "\n",
        "\n",
        "def save_train_data(fnames, labels, bboxes):\n",
        "    src_folder = 'cars_train'\n",
        "    num_samples = len(fnames)\n",
        "\n",
        "    train_split = 0.8\n",
        "    num_train = int(round(num_samples * train_split))\n",
        "    train_indexes = random.sample(range(num_samples), num_train)\n",
        "\n",
        "    pb = ProgressBar(total=100, prefix='Save train data', suffix='', decimals=3, length=50, fill='=')\n",
        "\n",
        "    for i in range(num_samples):\n",
        "        fname = fnames[i]\n",
        "        label = labels[i]\n",
        "        (x1, y1, x2, y2) = bboxes[i]\n",
        "\n",
        "        src_path = os.path.join(src_folder, fname)\n",
        "        src_image = cv.imread(src_path)\n",
        "        height, width = src_image.shape[:2]\n",
        "        # margins of 16 pixels\n",
        "        margin = 16\n",
        "        x1 = max(0, x1 - margin)\n",
        "        y1 = max(0, y1 - margin)\n",
        "        x2 = min(x2 + margin, width)\n",
        "        y2 = min(y2 + margin, height)\n",
        "        # print(\"{} -> {}\".format(fname, label))\n",
        "        pb.print_progress_bar((i + 1) * 100 / num_samples)\n",
        "\n",
        "        if i in train_indexes:\n",
        "            dst_folder = 'data/train'\n",
        "        else:\n",
        "            dst_folder = 'data/valid'\n",
        "\n",
        "        dst_path = os.path.join(dst_folder, label)\n",
        "        if not os.path.exists(dst_path):\n",
        "            os.makedirs(dst_path)\n",
        "        dst_path = os.path.join(dst_path, fname)\n",
        "\n",
        "        crop_image = src_image[y1:y2, x1:x2]\n",
        "        dst_img = cv.resize(src=crop_image, dsize=(img_height, img_width))\n",
        "        cv.imwrite(dst_path, dst_img)\n",
        "\n",
        "\n",
        "def save_test_data(fnames, bboxes):\n",
        "    src_folder = 'cars_test'\n",
        "    dst_folder = 'data/test'\n",
        "    num_samples = len(fnames)\n",
        "\n",
        "    pb = ProgressBar(total=100, prefix='Save test data', suffix='', decimals=3, length=50, fill='=')\n",
        "\n",
        "    for i in range(num_samples):\n",
        "        fname = fnames[i]\n",
        "        (x1, y1, x2, y2) = bboxes[i]\n",
        "        src_path = os.path.join(src_folder, fname)\n",
        "        src_image = cv.imread(src_path)\n",
        "        height, width = src_image.shape[:2]\n",
        "        # margins of 16 pixels\n",
        "        margin = 16\n",
        "        x1 = max(0, x1 - margin)\n",
        "        y1 = max(0, y1 - margin)\n",
        "        x2 = min(x2 + margin, width)\n",
        "        y2 = min(y2 + margin, height)\n",
        "        # print(fname)\n",
        "        pb.print_progress_bar((i + 1) * 100 / num_samples)\n",
        "\n",
        "        dst_path = os.path.join(dst_folder, fname)\n",
        "        crop_image = src_image[y1:y2, x1:x2]\n",
        "        dst_img = cv.resize(src=crop_image, dsize=(img_height, img_width))\n",
        "        cv.imwrite(dst_path, dst_img)\n",
        "\n",
        "\n",
        "def process_train_data():\n",
        "    print(\"Processing train data...\")\n",
        "    cars_annos = scipy.io.loadmat('devkit/cars_train_annos')\n",
        "    annotations = cars_annos['annotations']\n",
        "    annotations = np.transpose(annotations)\n",
        "\n",
        "    fnames = []\n",
        "    class_ids = []\n",
        "    bboxes = []\n",
        "    labels = []\n",
        "\n",
        "    for annotation in annotations:\n",
        "        bbox_x1 = annotation[0][0][0][0]\n",
        "        bbox_y1 = annotation[0][1][0][0]\n",
        "        bbox_x2 = annotation[0][2][0][0]\n",
        "        bbox_y2 = annotation[0][3][0][0]\n",
        "        class_id = annotation[0][4][0][0]\n",
        "        labels.append('%04d' % (class_id,))\n",
        "        fname = annotation[0][5][0]\n",
        "        bboxes.append((bbox_x1, bbox_y1, bbox_x2, bbox_y2))\n",
        "        class_ids.append(class_id)\n",
        "        fnames.append(fname)\n",
        "\n",
        "    labels_count = np.unique(class_ids).shape[0]\n",
        "    print(np.unique(class_ids))\n",
        "    print('The number of different cars is %d' % labels_count)\n",
        "\n",
        "    save_train_data(fnames, labels, bboxes)\n",
        "\n",
        "\n",
        "def process_test_data():\n",
        "    print(\"Processing test data...\")\n",
        "    cars_annos = scipy.io.loadmat('devkit/cars_test_annos')\n",
        "    annotations = cars_annos['annotations']\n",
        "    annotations = np.transpose(annotations)\n",
        "\n",
        "    fnames = []\n",
        "    bboxes = []\n",
        "\n",
        "    for annotation in annotations:\n",
        "        bbox_x1 = annotation[0][0][0][0]\n",
        "        bbox_y1 = annotation[0][1][0][0]\n",
        "        bbox_x2 = annotation[0][2][0][0]\n",
        "        bbox_y2 = annotation[0][3][0][0]\n",
        "        fname = annotation[0][4][0]\n",
        "        bboxes.append((bbox_x1, bbox_y1, bbox_x2, bbox_y2))\n",
        "        fnames.append(fname)\n",
        "\n",
        "    save_test_data(fnames, bboxes)\n",
        "\n",
        "\n",
        "img_width, img_height = 224, 224\n",
        "\n",
        "print('Extracting cars_train.tgz...')\n",
        "if not os.path.exists('cars_train'):\n",
        "    with tarfile.open('cars_train.tgz', \"r:gz\") as tar:\n",
        "        tar.extractall()\n",
        "print('Extracting cars_test.tgz...')\n",
        "if not os.path.exists('cars_test'):\n",
        "    with tarfile.open('cars_test.tgz', \"r:gz\") as tar:\n",
        "        tar.extractall()\n",
        "print('Extracting car_devkit.tgz...')\n",
        "if not os.path.exists('devkit'):\n",
        "    with tarfile.open('car_devkit.tgz', \"r:gz\") as tar:\n",
        "        tar.extractall()\n",
        "\n",
        "cars_meta = scipy.io.loadmat('devkit/cars_meta')\n",
        "class_names = cars_meta['class_names']  # shape=(1, 196)\n",
        "class_names = np.transpose(class_names)\n",
        "print('class_names.shape: ' + str(class_names.shape))\n",
        "print('Sample class_name: [{}]'.format(class_names[8][0][0]))\n",
        "\n",
        "ensure_folder('data/train')\n",
        "ensure_folder('data/valid')\n",
        "ensure_folder('data/test')\n",
        "\n",
        "process_train_data()\n",
        "process_test_data()\n",
        "\n",
        "# clean up\n",
        "shutil.rmtree('cars_train')\n",
        "shutil.rmtree('cars_test')\n",
        "    # shutil.rmtree('devkit')"
      ],
      "execution_count": 14,
      "outputs": [
        {
          "output_type": "stream",
          "text": [
            "Extracting cars_train.tgz...\n",
            "Extracting cars_test.tgz...\n",
            "Extracting car_devkit.tgz...\n",
            "class_names.shape: (196, 1)\n",
            "Sample class_name: [Aston Martin V8 Vantage Coupe 2012]\n",
            "Processing train data...\n",
            "[  1   2   3   4   5   6   7   8   9  10  11  12  13  14  15  16  17  18\n",
            "  19  20  21  22  23  24  25  26  27  28  29  30  31  32  33  34  35  36\n",
            "  37  38  39  40  41  42  43  44  45  46  47  48  49  50  51  52  53  54\n",
            "  55  56  57  58  59  60  61  62  63  64  65  66  67  68  69  70  71  72\n",
            "  73  74  75  76  77  78  79  80  81  82  83  84  85  86  87  88  89  90\n",
            "  91  92  93  94  95  96  97  98  99 100 101 102 103 104 105 106 107 108\n",
            " 109 110 111 112 113 114 115 116 117 118 119 120 121 122 123 124 125 126\n",
            " 127 128 129 130 131 132 133 134 135 136 137 138 139 140 141 142 143 144\n",
            " 145 146 147 148 149 150 151 152 153 154 155 156 157 158 159 160 161 162\n",
            " 163 164 165 166 167 168 169 170 171 172 173 174 175 176 177 178 179 180\n",
            " 181 182 183 184 185 186 187 188 189 190 191 192 193 194 195 196]\n",
            "The number of different cars is 196\n",
            "Save train data |==================================================| 100.000% \n",
            "Processing test data...\n",
            "Save test data |==================================================| 100.000% \n"
          ],
          "name": "stdout"
        }
      ]
    },
    {
      "cell_type": "code",
      "metadata": {
        "id": "-e_x5TZS0Qeb",
        "colab_type": "code",
        "colab": {}
      },
      "source": [
        "img_width, img_height = 224, 224\n",
        "num_channels = 3\n",
        "train_data = 'data/train'\n",
        "valid_data = 'data/valid'\n",
        "num_classes = 196\n",
        "num_train_samples = 6549\n",
        "num_valid_samples = 1595\n",
        "verbose = 1\n",
        "batch_size = 32\n",
        "num_epochs = 125\n",
        "patience = 50\n",
        "weight_decay=1e-4\n"
      ],
      "execution_count": 0,
      "outputs": []
    },
    {
      "cell_type": "code",
      "metadata": {
        "id": "FQFt0Poh0Qee",
        "colab_type": "code",
        "colab": {
          "base_uri": "https://localhost:8080/",
          "height": 51
        },
        "outputId": "f67dfdfc-ab68-47a9-e3ea-22a133b5b83e"
      },
      "source": [
        "train_data='data/train'\n",
        "valid_data='data/valid'\n",
        "# prepare data augmentation configuration\n",
        "train_data_gen = ImageDataGenerator(rotation_range=20.,\n",
        "                                    width_shift_range=0.1,\n",
        "                                    height_shift_range=0.1,\n",
        "                                    zoom_range=0.2,\n",
        "                                    horizontal_flip=True)\n",
        "valid_data_gen = ImageDataGenerator()\n",
        "# callbacks\n",
        "# generators\n",
        "train_generator = train_data_gen.flow_from_directory(train_data, (img_width, img_height), batch_size=batch_size,\n",
        "                                                     class_mode='categorical')\n",
        "valid_generator = valid_data_gen.flow_from_directory(valid_data, (img_width, img_height), batch_size=batch_size,\n",
        "                                                     class_mode='categorical')\n"
      ],
      "execution_count": 33,
      "outputs": [
        {
          "output_type": "stream",
          "text": [
            "Found 6515 images belonging to 196 classes.\n",
            "Found 1629 images belonging to 196 classes.\n"
          ],
          "name": "stdout"
        }
      ]
    },
    {
      "cell_type": "code",
      "metadata": {
        "scrolled": true,
        "id": "ihygVnif0Qeg",
        "colab_type": "code",
        "colab": {
          "base_uri": "https://localhost:8080/",
          "height": 646
        },
        "outputId": "9d1cde1b-cc45-4dde-cc6b-48f6044d4d35"
      },
      "source": [
        "model = Sequential()\n",
        "model.add(Conv2D(224, (3,3), padding='same', kernel_regularizer=regularizers.l2(weight_decay), input_shape=(img_height,img_width,num_channels)))\n",
        "model.add(Activation('elu'))\n",
        "model.add(BatchNormalization())\n",
        "model.add(MaxPooling2D(pool_size=(2,2)))\n",
        "#model.add(Dropout(0.2))\n",
        " \n",
        "model.add(Conv2D(224, (3,3), padding='same', kernel_regularizer=regularizers.l2(weight_decay)))\n",
        "model.add(Activation('elu'))\n",
        "model.add(BatchNormalization())\n",
        "model.add(MaxPooling2D(pool_size=(2,2)))\n",
        "#model.add(Dropout(0.2))\n",
        " \n",
        "model.add(Conv2D(224, (3,3), padding='same', kernel_regularizer=regularizers.l2(weight_decay)))\n",
        "model.add(Activation('elu'))\n",
        "model.add(BatchNormalization())\n",
        "model.add(MaxPooling2D(pool_size=(2,2)))\n",
        "model.add(Dropout(0.2))\n",
        "\n",
        "model.add(Flatten())\n",
        "model.add(Dense(num_classes, activation='softmax'))\n",
        "\n",
        "model.summary()\n",
        "opt_rms = tf.keras.optimizers.RMSprop(lr=0.001,decay=1e-6)\n",
        "model.compile(loss='categorical_crossentropy', optimizer='adam', metrics=['accuracy']) #categorical_crossentropy"
      ],
      "execution_count": 34,
      "outputs": [
        {
          "output_type": "stream",
          "text": [
            "_________________________________________________________________\n",
            "Layer (type)                 Output Shape              Param #   \n",
            "=================================================================\n",
            "conv2d_10 (Conv2D)           (None, 224, 224, 224)     6272      \n",
            "_________________________________________________________________\n",
            "activation_9 (Activation)    (None, 224, 224, 224)     0         \n",
            "_________________________________________________________________\n",
            "batch_normalization_v1_9 (Ba (None, 224, 224, 224)     896       \n",
            "_________________________________________________________________\n",
            "max_pooling2d_9 (MaxPooling2 (None, 112, 112, 224)     0         \n",
            "_________________________________________________________________\n",
            "conv2d_11 (Conv2D)           (None, 112, 112, 224)     451808    \n",
            "_________________________________________________________________\n",
            "activation_10 (Activation)   (None, 112, 112, 224)     0         \n",
            "_________________________________________________________________\n",
            "batch_normalization_v1_10 (B (None, 112, 112, 224)     896       \n",
            "_________________________________________________________________\n",
            "max_pooling2d_10 (MaxPooling (None, 56, 56, 224)       0         \n",
            "_________________________________________________________________\n",
            "conv2d_12 (Conv2D)           (None, 56, 56, 224)       451808    \n",
            "_________________________________________________________________\n",
            "activation_11 (Activation)   (None, 56, 56, 224)       0         \n",
            "_________________________________________________________________\n",
            "batch_normalization_v1_11 (B (None, 56, 56, 224)       896       \n",
            "_________________________________________________________________\n",
            "max_pooling2d_11 (MaxPooling (None, 28, 28, 224)       0         \n",
            "_________________________________________________________________\n",
            "dropout_3 (Dropout)          (None, 28, 28, 224)       0         \n",
            "_________________________________________________________________\n",
            "flatten_3 (Flatten)          (None, 175616)            0         \n",
            "_________________________________________________________________\n",
            "dense_3 (Dense)              (None, 196)               34420932  \n",
            "=================================================================\n",
            "Total params: 35,333,508\n",
            "Trainable params: 35,332,164\n",
            "Non-trainable params: 1,344\n",
            "_________________________________________________________________\n"
          ],
          "name": "stdout"
        }
      ]
    },
    {
      "cell_type": "code",
      "metadata": {
        "id": "so7Bcomu0Qej",
        "colab_type": "code",
        "colab": {}
      },
      "source": [
        "def lr_schedule(epoch):\n",
        "    lrate = 0.001\n",
        "    if epoch > 40:\n",
        "        lrate = 0.0005\n",
        "    if epoch > 60:\n",
        "        lrate = 0.0003\n",
        "    if epoch > 80:\n",
        "        lrate = 0.0001\n",
        "    if epoch > 100:\n",
        "        lrate = 0.00003  \n",
        "    return lrate"
      ],
      "execution_count": 0,
      "outputs": []
    },
    {
      "cell_type": "code",
      "metadata": {
        "id": "KjH_N8u10z9q",
        "colab_type": "code",
        "colab": {
          "base_uri": "https://localhost:8080/",
          "height": 340
        },
        "outputId": "e436a76f-4d5d-4732-b827-13bb1bee2ec1"
      },
      "source": [
        "tpu_model = tf.contrib.tpu.keras_to_tpu_model(\n",
        "model,\n",
        "strategy=tf.contrib.tpu.TPUDistributionStrategy(\n",
        "    tf.contrib.cluster_resolver.TPUClusterResolver(tpu='grpc://' + os.environ['COLAB_TPU_ADDR'])))"
      ],
      "execution_count": 36,
      "outputs": [
        {
          "output_type": "stream",
          "text": [
            "INFO:tensorflow:Querying Tensorflow master (grpc://10.103.53.210:8470) for TPU system metadata.\n",
            "INFO:tensorflow:Found TPU system:\n",
            "INFO:tensorflow:*** Num TPU Cores: 8\n",
            "INFO:tensorflow:*** Num TPU Workers: 1\n",
            "INFO:tensorflow:*** Num TPU Cores Per Worker: 8\n",
            "INFO:tensorflow:*** Available Device: _DeviceAttributes(/job:worker/replica:0/task:0/device:CPU:0, CPU, -1, 14927863162153125411)\n",
            "INFO:tensorflow:*** Available Device: _DeviceAttributes(/job:worker/replica:0/task:0/device:XLA_CPU:0, XLA_CPU, 17179869184, 49593630309049572)\n",
            "INFO:tensorflow:*** Available Device: _DeviceAttributes(/job:worker/replica:0/task:0/device:TPU:0, TPU, 17179869184, 8851305381979168834)\n",
            "INFO:tensorflow:*** Available Device: _DeviceAttributes(/job:worker/replica:0/task:0/device:TPU:1, TPU, 17179869184, 14064113523154237573)\n",
            "INFO:tensorflow:*** Available Device: _DeviceAttributes(/job:worker/replica:0/task:0/device:TPU:2, TPU, 17179869184, 13256533676897377945)\n",
            "INFO:tensorflow:*** Available Device: _DeviceAttributes(/job:worker/replica:0/task:0/device:TPU:3, TPU, 17179869184, 352250155109160704)\n",
            "INFO:tensorflow:*** Available Device: _DeviceAttributes(/job:worker/replica:0/task:0/device:TPU:4, TPU, 17179869184, 5866397856298141072)\n",
            "INFO:tensorflow:*** Available Device: _DeviceAttributes(/job:worker/replica:0/task:0/device:TPU:5, TPU, 17179869184, 16985111842048363998)\n",
            "INFO:tensorflow:*** Available Device: _DeviceAttributes(/job:worker/replica:0/task:0/device:TPU:6, TPU, 17179869184, 7239531535976330072)\n",
            "INFO:tensorflow:*** Available Device: _DeviceAttributes(/job:worker/replica:0/task:0/device:TPU:7, TPU, 17179869184, 10045172370129019818)\n",
            "INFO:tensorflow:*** Available Device: _DeviceAttributes(/job:worker/replica:0/task:0/device:TPU_SYSTEM:0, TPU_SYSTEM, 17179869184, 16333177652370699396)\n",
            "WARNING:tensorflow:tpu_model (from tensorflow.contrib.tpu.python.tpu.keras_support) is experimental and may change or be removed at any time, and without warning.\n",
            "INFO:tensorflow:Cloning Adam {'lr': 0.0010000000474974513, 'beta_1': 0.8999999761581421, 'beta_2': 0.9990000128746033, 'decay': 0.0, 'epsilon': 1e-07, 'amsgrad': False}\n",
            "INFO:tensorflow:Cloning Adam {'lr': 0.0010000000474974513, 'beta_1': 0.8999999761581421, 'beta_2': 0.9990000128746033, 'decay': 0.0, 'epsilon': 1e-07, 'amsgrad': False}\n"
          ],
          "name": "stdout"
        }
      ]
    },
    {
      "cell_type": "code",
      "metadata": {
        "id": "Ek2vYriM0Qel",
        "colab_type": "code",
        "colab": {
          "base_uri": "https://localhost:8080/",
          "height": 410
        },
        "outputId": "ab55437a-3520-4d43-b26e-9e6e73ca4318"
      },
      "source": [
        "tpu_model.fit_generator(train_generator,\n",
        "                    steps_per_epoch=num_train_samples/batch_size,\n",
        "                    validation_data=valid_generator,\n",
        "                    validation_steps=num_valid_samples/batch_size,\n",
        "                    epochs=num_epochs,\n",
        "                    verbose=1,\n",
        "                    callbacks=[LearningRateScheduler(lr_schedule),plot_losses])"
      ],
      "execution_count": 37,
      "outputs": [
        {
          "output_type": "display_data",
          "data": {
            "image/png": "[encoded data removed]",
            "text/plain": [
              "<Figure size 576x396 with 1 Axes>"
            ]
          },
          "metadata": {
            "tags": []
          }
        },
        {
          "output_type": "stream",
          "text": [
            "\b\b\b\b\b\b\b\b\b\b\b\b\b\b\b\b\b\b\b\b\b\b\b\b\b\b\b\b\b\b\b\b\b\b\b\b\b\b\b\b\b\b\b\b\b\b\b\b\b\b\b\b\b\b\b\b\b\b\b\b\b\b\b\b\b\b\b\b\b\b\b\b\b\b\b\b\b\b\b\b\r204/204 [==============================] - 90s 442ms/step - loss: 15.9188 - acc: 0.0127 - val_loss: 16.0065 - val_acc: 0.0074\n"
          ],
          "name": "stdout"
        },
        {
          "output_type": "execute_result",
          "data": {
            "text/plain": [
              "<tensorflow.python.keras.callbacks.History at 0x7f03b5ada6d8>"
            ]
          },
          "metadata": {
            "tags": []
          },
          "execution_count": 37
        }
      ]
    }
  ]
}